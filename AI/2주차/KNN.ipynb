from sklearn.neighbors import KNeighborsRegressor

knn_reg = KNeighborsRegressor()
knn_reg.fit(housing_prepared,housing_labels)
housing_predictions = knn_reg.predict(housing_prepared)
knn_mse = mean_squared_error(housing_labels, housing_predictions)
knn_rmse = np.sqrt(knn_mse)
knn_rmse

from sklearn.model_selection import cross_val_score

knn_scores = cross_val_score(knn_reg, housing_prepared, housing_labels,
                                scoring="neg_mean_squared_error", cv=3)
knn_rmse_scores = np.sqrt(-knn_scores)
display_scores(knn_rmse_scores)
